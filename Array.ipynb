{
  "nbformat": 4,
  "nbformat_minor": 0,
  "metadata": {
    "colab": {
      "provenance": [],
      "authorship_tag": "ABX9TyOC0r6imAyFM+fq8U5iDLfq",
      "include_colab_link": true
    },
    "kernelspec": {
      "name": "python3",
      "display_name": "Python 3"
    },
    "language_info": {
      "name": "python"
    }
  },
  "cells": [
    {
      "cell_type": "markdown",
      "metadata": {
        "id": "view-in-github",
        "colab_type": "text"
      },
      "source": [
        "<a href=\"https://colab.research.google.com/github/Yuvraj5027/Python_practice/blob/main/Array.ipynb\" target=\"_parent\"><img src=\"https://colab.research.google.com/assets/colab-badge.svg\" alt=\"Open In Colab\"/></a>"
      ]
    },
    {
      "cell_type": "code",
      "execution_count": null,
      "metadata": {
        "colab": {
          "base_uri": "https://localhost:8080/"
        },
        "id": "HFjtOcSblQJv",
        "outputId": "f51d31dc-7d20-48c2-a176-b4f3cbc6eead"
      },
      "outputs": [
        {
          "output_type": "stream",
          "name": "stdout",
          "text": [
            "10\n",
            "20\n",
            "30\n",
            "40\n",
            "50\n",
            "\n",
            "\n",
            "10\n",
            "30\n"
          ]
        }
      ],
      "source": [
        "from array import*\n",
        "array1=array('i',[10,20,30,40,50])\n",
        "for x in array1:\n",
        "  print(x)\n",
        "print('\\n')\n",
        "print(array1[0])\n",
        "print(array1[2])"
      ]
    },
    {
      "cell_type": "code",
      "source": [
        "from array import*\n",
        "array1=array('i',[10,20,30,40,50])\n",
        "array1.insert(1,60)\n",
        "array1.remove(40)\n",
        "for x in array1:\n",
        "  print(x)"
      ],
      "metadata": {
        "colab": {
          "base_uri": "https://localhost:8080/"
        },
        "id": "ny3lJtXulgTh",
        "outputId": "e86bf914-56e0-402d-afad-8e26c62d242b"
      },
      "execution_count": null,
      "outputs": [
        {
          "output_type": "stream",
          "name": "stdout",
          "text": [
            "10\n",
            "60\n",
            "20\n",
            "30\n",
            "50\n"
          ]
        }
      ]
    },
    {
      "cell_type": "code",
      "source": [
        "#linear search\n",
        "listt = []\n",
        "n = int(input(\"Enter number of Elements :\"))\n",
        "for i in range(n):\n",
        "    e = int(input(\"Enter Element :\"))\n",
        "    listt.append(e)\n",
        "print(\"List :\", listt)\n",
        "ch = int(input(\"Enter Element to search :\"))\n",
        "for j in listt:\n",
        "    if ch == j:\n",
        "        print(\"Location is\",listt.index(j))"
      ],
      "metadata": {
        "id": "vjKZXM9jnuQI",
        "colab": {
          "base_uri": "https://localhost:8080/"
        },
        "outputId": "7d102ce9-f528-401a-9895-85f3d9ce279e"
      },
      "execution_count": null,
      "outputs": [
        {
          "output_type": "stream",
          "name": "stdout",
          "text": [
            "Enter number of Elements :5\n",
            "Enter Element :34\n",
            "Enter Element :33\n",
            "Enter Element :43\n",
            "Enter Element :32\n",
            "Enter Element :1\n",
            "List : [34, 33, 43, 32, 1]\n",
            "Enter Element to search :43\n",
            "Location is 2\n"
          ]
        }
      ]
    },
    {
      "cell_type": "code",
      "source": [],
      "metadata": {
        "id": "SGKSMHl4KCgC"
      },
      "execution_count": null,
      "outputs": []
    }
  ]
}