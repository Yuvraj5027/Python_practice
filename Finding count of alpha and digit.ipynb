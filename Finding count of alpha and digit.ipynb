{
 "cells": [
  {
   "cell_type": "code",
   "execution_count": 7,
   "id": "1920a31e-65cc-461c-96d1-d769e576dbbe",
   "metadata": {},
   "outputs": [
    {
     "name": "stdin",
     "output_type": "stream",
     "text": [
      " bca2024b\n"
     ]
    },
    {
     "name": "stdout",
     "output_type": "stream",
     "text": [
      "Total number: 4\n",
      "Total alphabet: 4\n"
     ]
    }
   ],
   "source": [
    "a=input()\n",
    "num=alphabet=0\n",
    "for i in a:\n",
    "    if i.isalpha():\n",
    "        alphabet+=1\n",
    "    elif i.isdigit():\n",
    "        num+=1\n",
    "    else:\n",
    "        pass\n",
    "print('Total number:',num)\n",
    "print('Total alphabet:',alphabet)"
   ]
  },
  {
   "cell_type": "code",
   "execution_count": null,
   "id": "1b603428-3bdb-43b4-95c3-a2ee58be7e6a",
   "metadata": {},
   "outputs": [],
   "source": []
  }
 ],
 "metadata": {
  "kernelspec": {
   "display_name": "Python 3 (ipykernel)",
   "language": "python",
   "name": "python3"
  },
  "language_info": {
   "codemirror_mode": {
    "name": "ipython",
    "version": 3
   },
   "file_extension": ".py",
   "mimetype": "text/x-python",
   "name": "python",
   "nbconvert_exporter": "python",
   "pygments_lexer": "ipython3",
   "version": "3.12.4"
  }
 },
 "nbformat": 4,
 "nbformat_minor": 5
}
