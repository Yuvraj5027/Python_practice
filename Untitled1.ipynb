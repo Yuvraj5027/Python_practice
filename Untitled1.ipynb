{
  "nbformat": 4,
  "nbformat_minor": 0,
  "metadata": {
    "colab": {
      "provenance": [],
      "authorship_tag": "ABX9TyM7H/vnJshsrWjLdzOAiI16",
      "include_colab_link": true
    },
    "kernelspec": {
      "name": "python3",
      "display_name": "Python 3"
    },
    "language_info": {
      "name": "python"
    }
  },
  "cells": [
    {
      "cell_type": "markdown",
      "metadata": {
        "id": "view-in-github",
        "colab_type": "text"
      },
      "source": [
        "<a href=\"https://colab.research.google.com/github/Yuvraj5027/Python_practice/blob/main/Untitled1.ipynb\" target=\"_parent\"><img src=\"https://colab.research.google.com/assets/colab-badge.svg\" alt=\"Open In Colab\"/></a>"
      ]
    },
    {
      "cell_type": "code",
      "execution_count": null,
      "metadata": {
        "colab": {
          "base_uri": "https://localhost:8080/"
        },
        "id": "3jsDgCLP2cur",
        "outputId": "2b16af16-532b-4236-b25d-607083aa2887"
      },
      "outputs": [
        {
          "output_type": "stream",
          "name": "stdout",
          "text": [
            "[1, 2, 333, 44, 3, 99, 39, 48, 1, 3]\n",
            "[1, 2, 333, 44, 3]\n",
            "<class 'list'>\n"
          ]
        }
      ],
      "source": [
        "a=[1,2,333,44,3]\n",
        "b=[99,39,48,1,3]\n",
        "print(a+b)\n",
        "print(a)\n",
        "print(type(a))"
      ]
    },
    {
      "cell_type": "code",
      "source": [
        "a=[1.9,92.8,921.9]\n",
        "print(a)"
      ],
      "metadata": {
        "colab": {
          "base_uri": "https://localhost:8080/"
        },
        "id": "yFrqaKtP2lGG",
        "outputId": "4e631df6-6143-4d5c-a0fc-3683afade8f3"
      },
      "execution_count": null,
      "outputs": [
        {
          "output_type": "stream",
          "name": "stdout",
          "text": [
            "[1.9, 92.8, 921.9]\n"
          ]
        }
      ]
    },
    {
      "cell_type": "code",
      "source": [
        "a=['heellooehoah','jaifh','Yuvraj',19,9232,22.99]\n",
        "print(a)\n",
        "print(type(a))"
      ],
      "metadata": {
        "colab": {
          "base_uri": "https://localhost:8080/"
        },
        "id": "EjTPXYhZ3Uhz",
        "outputId": "facbe5d7-e83e-4792-dd35-0eeaca5f79ea"
      },
      "execution_count": null,
      "outputs": [
        {
          "output_type": "stream",
          "name": "stdout",
          "text": [
            "['heellooehoah', 'jaifh', 'Yuvraj', 19, 9232, 22.99]\n",
            "<class 'list'>\n"
          ]
        }
      ]
    },
    {
      "cell_type": "code",
      "source": [
        "a=[[1,3,2,1],['as','is','hey'],[18.92,99.3,0.9]]\n",
        "print(a[1])"
      ],
      "metadata": {
        "colab": {
          "base_uri": "https://localhost:8080/"
        },
        "id": "Uo5zzETz3dBl",
        "outputId": "68a483f3-8bd2-4ac2-e340-7114240b9e17"
      },
      "execution_count": null,
      "outputs": [
        {
          "output_type": "stream",
          "name": "stdout",
          "text": [
            "['as', 'is', 'hey']\n"
          ]
        }
      ]
    },
    {
      "cell_type": "code",
      "source": [
        "a=[99.3,19,99,'hello']\n",
        "print(a[::])"
      ],
      "metadata": {
        "colab": {
          "base_uri": "https://localhost:8080/"
        },
        "id": "HV0vKWRV4swz",
        "outputId": "b4632ce7-00ef-4628-90ed-2f1bc5963413"
      },
      "execution_count": null,
      "outputs": [
        {
          "output_type": "stream",
          "name": "stdout",
          "text": [
            "[99.3, 19, 99, 'hello']\n"
          ]
        }
      ]
    },
    {
      "cell_type": "code",
      "source": [
        "a=[10,20,30,40]\n",
        "for i in range(len(a)):\n",
        "  if a[i]==30:\n",
        "    print(i)"
      ],
      "metadata": {
        "id": "mBKtjEEW52VM",
        "colab": {
          "base_uri": "https://localhost:8080/"
        },
        "outputId": "bd443814-fced-4e99-a647-b956f35bda41"
      },
      "execution_count": null,
      "outputs": [
        {
          "output_type": "stream",
          "name": "stdout",
          "text": [
            "2\n"
          ]
        }
      ]
    },
    {
      "cell_type": "code",
      "source": [
        "a=[10,20,30,40,50,60,70,80]\n",
        "print(a.index(60))"
      ],
      "metadata": {
        "colab": {
          "base_uri": "https://localhost:8080/"
        },
        "id": "FLyt914bZOpz",
        "outputId": "7c73048f-7d40-4f93-dc9f-5fea397e914a"
      },
      "execution_count": null,
      "outputs": [
        {
          "output_type": "stream",
          "name": "stdout",
          "text": [
            "5\n"
          ]
        }
      ]
    },
    {
      "cell_type": "code",
      "source": [
        "a=[]\n",
        "print(a)"
      ],
      "metadata": {
        "colab": {
          "base_uri": "https://localhost:8080/"
        },
        "id": "EMhlhe-ifVc3",
        "outputId": "f1994275-4afd-4b9a-cca2-2a10b58a67e5"
      },
      "execution_count": null,
      "outputs": [
        {
          "output_type": "stream",
          "name": "stdout",
          "text": [
            "[]\n"
          ]
        }
      ]
    },
    {
      "cell_type": "code",
      "source": [
        "a=[10,20,30,40,50,60]\n",
        "print(a)"
      ],
      "metadata": {
        "colab": {
          "base_uri": "https://localhost:8080/"
        },
        "id": "gjQXzYuPgib4",
        "outputId": "4cc6b4ea-9333-41ff-cfa2-66e678cb22a5"
      },
      "execution_count": null,
      "outputs": [
        {
          "output_type": "stream",
          "name": "stdout",
          "text": [
            "[10, 20, 30, 40, 50, 60]\n"
          ]
        }
      ]
    },
    {
      "cell_type": "code",
      "source": [
        "a=[10,20,30,40,50,60]\n",
        "a.append(70)\n",
        "print(a)\n",
        "a.replace(60,90)\n",
        "print(a)"
      ],
      "metadata": {
        "colab": {
          "base_uri": "https://localhost:8080/",
          "height": 211
        },
        "id": "WDkkx8zkgyCe",
        "outputId": "e94ae64e-3379-44c3-a832-0d33f4d0b291"
      },
      "execution_count": null,
      "outputs": [
        {
          "output_type": "stream",
          "name": "stdout",
          "text": [
            "[10, 20, 30, 40, 50, 60, 70]\n"
          ]
        },
        {
          "output_type": "error",
          "ename": "AttributeError",
          "evalue": "'list' object has no attribute 'replace'",
          "traceback": [
            "\u001b[0;31m---------------------------------------------------------------------------\u001b[0m",
            "\u001b[0;31mAttributeError\u001b[0m                            Traceback (most recent call last)",
            "\u001b[0;32m<ipython-input-14-1ad3efbce63d>\u001b[0m in \u001b[0;36m<cell line: 4>\u001b[0;34m()\u001b[0m\n\u001b[1;32m      2\u001b[0m \u001b[0ma\u001b[0m\u001b[0;34m.\u001b[0m\u001b[0mappend\u001b[0m\u001b[0;34m(\u001b[0m\u001b[0;36m70\u001b[0m\u001b[0;34m)\u001b[0m\u001b[0;34m\u001b[0m\u001b[0;34m\u001b[0m\u001b[0m\n\u001b[1;32m      3\u001b[0m \u001b[0mprint\u001b[0m\u001b[0;34m(\u001b[0m\u001b[0ma\u001b[0m\u001b[0;34m)\u001b[0m\u001b[0;34m\u001b[0m\u001b[0;34m\u001b[0m\u001b[0m\n\u001b[0;32m----> 4\u001b[0;31m \u001b[0ma\u001b[0m\u001b[0;34m.\u001b[0m\u001b[0mreplace\u001b[0m\u001b[0;34m(\u001b[0m\u001b[0;36m60\u001b[0m\u001b[0;34m,\u001b[0m\u001b[0;36m90\u001b[0m\u001b[0;34m)\u001b[0m\u001b[0;34m\u001b[0m\u001b[0;34m\u001b[0m\u001b[0m\n\u001b[0m\u001b[1;32m      5\u001b[0m \u001b[0mprint\u001b[0m\u001b[0;34m(\u001b[0m\u001b[0ma\u001b[0m\u001b[0;34m)\u001b[0m\u001b[0;34m\u001b[0m\u001b[0;34m\u001b[0m\u001b[0m\n",
            "\u001b[0;31mAttributeError\u001b[0m: 'list' object has no attribute 'replace'"
          ]
        }
      ]
    },
    {
      "cell_type": "code",
      "source": [
        "a=['kesabh','did',69,69.69]\n",
        "a+='afrajh'\n",
        "print(a)\n",
        "a*=200\n",
        "print(a,'\\n')"
      ],
      "metadata": {
        "colab": {
          "base_uri": "https://localhost:8080/"
        },
        "id": "a_yaSvYAi-0A",
        "outputId": "d3a0a96f-60a4-420e-e8cb-0f1595e10429"
      },
      "execution_count": null,
      "outputs": [
        {
          "output_type": "stream",
          "name": "stdout",
          "text": [
            "['kesabh', 'did', 69, 69.69, 'a', 'f', 'r', 'a', 'j', 'h']\n",
            "['kesabh', 'did', 69, 69.69, 'a', 'f', 'r', 'a', 'j', 'h', 'kesabh', 'did', 69, 69.69, 'a', 'f', 'r', 'a', 'j', 'h', 'kesabh', 'did', 69, 69.69, 'a', 'f', 'r', 'a', 'j', 'h', 'kesabh', 'did', 69, 69.69, 'a', 'f', 'r', 'a', 'j', 'h', 'kesabh', 'did', 69, 69.69, 'a', 'f', 'r', 'a', 'j', 'h', 'kesabh', 'did', 69, 69.69, 'a', 'f', 'r', 'a', 'j', 'h', 'kesabh', 'did', 69, 69.69, 'a', 'f', 'r', 'a', 'j', 'h', 'kesabh', 'did', 69, 69.69, 'a', 'f', 'r', 'a', 'j', 'h', 'kesabh', 'did', 69, 69.69, 'a', 'f', 'r', 'a', 'j', 'h', 'kesabh', 'did', 69, 69.69, 'a', 'f', 'r', 'a', 'j', 'h', 'kesabh', 'did', 69, 69.69, 'a', 'f', 'r', 'a', 'j', 'h', 'kesabh', 'did', 69, 69.69, 'a', 'f', 'r', 'a', 'j', 'h', 'kesabh', 'did', 69, 69.69, 'a', 'f', 'r', 'a', 'j', 'h', 'kesabh', 'did', 69, 69.69, 'a', 'f', 'r', 'a', 'j', 'h', 'kesabh', 'did', 69, 69.69, 'a', 'f', 'r', 'a', 'j', 'h', 'kesabh', 'did', 69, 69.69, 'a', 'f', 'r', 'a', 'j', 'h', 'kesabh', 'did', 69, 69.69, 'a', 'f', 'r', 'a', 'j', 'h', 'kesabh', 'did', 69, 69.69, 'a', 'f', 'r', 'a', 'j', 'h', 'kesabh', 'did', 69, 69.69, 'a', 'f', 'r', 'a', 'j', 'h', 'kesabh', 'did', 69, 69.69, 'a', 'f', 'r', 'a', 'j', 'h', 'kesabh', 'did', 69, 69.69, 'a', 'f', 'r', 'a', 'j', 'h', 'kesabh', 'did', 69, 69.69, 'a', 'f', 'r', 'a', 'j', 'h', 'kesabh', 'did', 69, 69.69, 'a', 'f', 'r', 'a', 'j', 'h', 'kesabh', 'did', 69, 69.69, 'a', 'f', 'r', 'a', 'j', 'h', 'kesabh', 'did', 69, 69.69, 'a', 'f', 'r', 'a', 'j', 'h', 'kesabh', 'did', 69, 69.69, 'a', 'f', 'r', 'a', 'j', 'h', 'kesabh', 'did', 69, 69.69, 'a', 'f', 'r', 'a', 'j', 'h', 'kesabh', 'did', 69, 69.69, 'a', 'f', 'r', 'a', 'j', 'h', 'kesabh', 'did', 69, 69.69, 'a', 'f', 'r', 'a', 'j', 'h', 'kesabh', 'did', 69, 69.69, 'a', 'f', 'r', 'a', 'j', 'h', 'kesabh', 'did', 69, 69.69, 'a', 'f', 'r', 'a', 'j', 'h', 'kesabh', 'did', 69, 69.69, 'a', 'f', 'r', 'a', 'j', 'h', 'kesabh', 'did', 69, 69.69, 'a', 'f', 'r', 'a', 'j', 'h', 'kesabh', 'did', 69, 69.69, 'a', 'f', 'r', 'a', 'j', 'h', 'kesabh', 'did', 69, 69.69, 'a', 'f', 'r', 'a', 'j', 'h', 'kesabh', 'did', 69, 69.69, 'a', 'f', 'r', 'a', 'j', 'h', 'kesabh', 'did', 69, 69.69, 'a', 'f', 'r', 'a', 'j', 'h', 'kesabh', 'did', 69, 69.69, 'a', 'f', 'r', 'a', 'j', 'h', 'kesabh', 'did', 69, 69.69, 'a', 'f', 'r', 'a', 'j', 'h', 'kesabh', 'did', 69, 69.69, 'a', 'f', 'r', 'a', 'j', 'h', 'kesabh', 'did', 69, 69.69, 'a', 'f', 'r', 'a', 'j', 'h', 'kesabh', 'did', 69, 69.69, 'a', 'f', 'r', 'a', 'j', 'h', 'kesabh', 'did', 69, 69.69, 'a', 'f', 'r', 'a', 'j', 'h', 'kesabh', 'did', 69, 69.69, 'a', 'f', 'r', 'a', 'j', 'h', 'kesabh', 'did', 69, 69.69, 'a', 'f', 'r', 'a', 'j', 'h', 'kesabh', 'did', 69, 69.69, 'a', 'f', 'r', 'a', 'j', 'h', 'kesabh', 'did', 69, 69.69, 'a', 'f', 'r', 'a', 'j', 'h', 'kesabh', 'did', 69, 69.69, 'a', 'f', 'r', 'a', 'j', 'h', 'kesabh', 'did', 69, 69.69, 'a', 'f', 'r', 'a', 'j', 'h', 'kesabh', 'did', 69, 69.69, 'a', 'f', 'r', 'a', 'j', 'h', 'kesabh', 'did', 69, 69.69, 'a', 'f', 'r', 'a', 'j', 'h', 'kesabh', 'did', 69, 69.69, 'a', 'f', 'r', 'a', 'j', 'h', 'kesabh', 'did', 69, 69.69, 'a', 'f', 'r', 'a', 'j', 'h', 'kesabh', 'did', 69, 69.69, 'a', 'f', 'r', 'a', 'j', 'h', 'kesabh', 'did', 69, 69.69, 'a', 'f', 'r', 'a', 'j', 'h', 'kesabh', 'did', 69, 69.69, 'a', 'f', 'r', 'a', 'j', 'h', 'kesabh', 'did', 69, 69.69, 'a', 'f', 'r', 'a', 'j', 'h', 'kesabh', 'did', 69, 69.69, 'a', 'f', 'r', 'a', 'j', 'h', 'kesabh', 'did', 69, 69.69, 'a', 'f', 'r', 'a', 'j', 'h', 'kesabh', 'did', 69, 69.69, 'a', 'f', 'r', 'a', 'j', 'h', 'kesabh', 'did', 69, 69.69, 'a', 'f', 'r', 'a', 'j', 'h', 'kesabh', 'did', 69, 69.69, 'a', 'f', 'r', 'a', 'j', 'h', 'kesabh', 'did', 69, 69.69, 'a', 'f', 'r', 'a', 'j', 'h', 'kesabh', 'did', 69, 69.69, 'a', 'f', 'r', 'a', 'j', 'h', 'kesabh', 'did', 69, 69.69, 'a', 'f', 'r', 'a', 'j', 'h', 'kesabh', 'did', 69, 69.69, 'a', 'f', 'r', 'a', 'j', 'h', 'kesabh', 'did', 69, 69.69, 'a', 'f', 'r', 'a', 'j', 'h', 'kesabh', 'did', 69, 69.69, 'a', 'f', 'r', 'a', 'j', 'h', 'kesabh', 'did', 69, 69.69, 'a', 'f', 'r', 'a', 'j', 'h', 'kesabh', 'did', 69, 69.69, 'a', 'f', 'r', 'a', 'j', 'h', 'kesabh', 'did', 69, 69.69, 'a', 'f', 'r', 'a', 'j', 'h', 'kesabh', 'did', 69, 69.69, 'a', 'f', 'r', 'a', 'j', 'h', 'kesabh', 'did', 69, 69.69, 'a', 'f', 'r', 'a', 'j', 'h', 'kesabh', 'did', 69, 69.69, 'a', 'f', 'r', 'a', 'j', 'h', 'kesabh', 'did', 69, 69.69, 'a', 'f', 'r', 'a', 'j', 'h', 'kesabh', 'did', 69, 69.69, 'a', 'f', 'r', 'a', 'j', 'h', 'kesabh', 'did', 69, 69.69, 'a', 'f', 'r', 'a', 'j', 'h', 'kesabh', 'did', 69, 69.69, 'a', 'f', 'r', 'a', 'j', 'h', 'kesabh', 'did', 69, 69.69, 'a', 'f', 'r', 'a', 'j', 'h', 'kesabh', 'did', 69, 69.69, 'a', 'f', 'r', 'a', 'j', 'h', 'kesabh', 'did', 69, 69.69, 'a', 'f', 'r', 'a', 'j', 'h', 'kesabh', 'did', 69, 69.69, 'a', 'f', 'r', 'a', 'j', 'h', 'kesabh', 'did', 69, 69.69, 'a', 'f', 'r', 'a', 'j', 'h', 'kesabh', 'did', 69, 69.69, 'a', 'f', 'r', 'a', 'j', 'h', 'kesabh', 'did', 69, 69.69, 'a', 'f', 'r', 'a', 'j', 'h', 'kesabh', 'did', 69, 69.69, 'a', 'f', 'r', 'a', 'j', 'h', 'kesabh', 'did', 69, 69.69, 'a', 'f', 'r', 'a', 'j', 'h', 'kesabh', 'did', 69, 69.69, 'a', 'f', 'r', 'a', 'j', 'h', 'kesabh', 'did', 69, 69.69, 'a', 'f', 'r', 'a', 'j', 'h', 'kesabh', 'did', 69, 69.69, 'a', 'f', 'r', 'a', 'j', 'h', 'kesabh', 'did', 69, 69.69, 'a', 'f', 'r', 'a', 'j', 'h', 'kesabh', 'did', 69, 69.69, 'a', 'f', 'r', 'a', 'j', 'h', 'kesabh', 'did', 69, 69.69, 'a', 'f', 'r', 'a', 'j', 'h', 'kesabh', 'did', 69, 69.69, 'a', 'f', 'r', 'a', 'j', 'h', 'kesabh', 'did', 69, 69.69, 'a', 'f', 'r', 'a', 'j', 'h', 'kesabh', 'did', 69, 69.69, 'a', 'f', 'r', 'a', 'j', 'h', 'kesabh', 'did', 69, 69.69, 'a', 'f', 'r', 'a', 'j', 'h', 'kesabh', 'did', 69, 69.69, 'a', 'f', 'r', 'a', 'j', 'h', 'kesabh', 'did', 69, 69.69, 'a', 'f', 'r', 'a', 'j', 'h', 'kesabh', 'did', 69, 69.69, 'a', 'f', 'r', 'a', 'j', 'h', 'kesabh', 'did', 69, 69.69, 'a', 'f', 'r', 'a', 'j', 'h', 'kesabh', 'did', 69, 69.69, 'a', 'f', 'r', 'a', 'j', 'h', 'kesabh', 'did', 69, 69.69, 'a', 'f', 'r', 'a', 'j', 'h', 'kesabh', 'did', 69, 69.69, 'a', 'f', 'r', 'a', 'j', 'h', 'kesabh', 'did', 69, 69.69, 'a', 'f', 'r', 'a', 'j', 'h', 'kesabh', 'did', 69, 69.69, 'a', 'f', 'r', 'a', 'j', 'h', 'kesabh', 'did', 69, 69.69, 'a', 'f', 'r', 'a', 'j', 'h', 'kesabh', 'did', 69, 69.69, 'a', 'f', 'r', 'a', 'j', 'h', 'kesabh', 'did', 69, 69.69, 'a', 'f', 'r', 'a', 'j', 'h', 'kesabh', 'did', 69, 69.69, 'a', 'f', 'r', 'a', 'j', 'h', 'kesabh', 'did', 69, 69.69, 'a', 'f', 'r', 'a', 'j', 'h', 'kesabh', 'did', 69, 69.69, 'a', 'f', 'r', 'a', 'j', 'h', 'kesabh', 'did', 69, 69.69, 'a', 'f', 'r', 'a', 'j', 'h', 'kesabh', 'did', 69, 69.69, 'a', 'f', 'r', 'a', 'j', 'h', 'kesabh', 'did', 69, 69.69, 'a', 'f', 'r', 'a', 'j', 'h', 'kesabh', 'did', 69, 69.69, 'a', 'f', 'r', 'a', 'j', 'h', 'kesabh', 'did', 69, 69.69, 'a', 'f', 'r', 'a', 'j', 'h', 'kesabh', 'did', 69, 69.69, 'a', 'f', 'r', 'a', 'j', 'h', 'kesabh', 'did', 69, 69.69, 'a', 'f', 'r', 'a', 'j', 'h', 'kesabh', 'did', 69, 69.69, 'a', 'f', 'r', 'a', 'j', 'h', 'kesabh', 'did', 69, 69.69, 'a', 'f', 'r', 'a', 'j', 'h', 'kesabh', 'did', 69, 69.69, 'a', 'f', 'r', 'a', 'j', 'h', 'kesabh', 'did', 69, 69.69, 'a', 'f', 'r', 'a', 'j', 'h', 'kesabh', 'did', 69, 69.69, 'a', 'f', 'r', 'a', 'j', 'h', 'kesabh', 'did', 69, 69.69, 'a', 'f', 'r', 'a', 'j', 'h', 'kesabh', 'did', 69, 69.69, 'a', 'f', 'r', 'a', 'j', 'h', 'kesabh', 'did', 69, 69.69, 'a', 'f', 'r', 'a', 'j', 'h', 'kesabh', 'did', 69, 69.69, 'a', 'f', 'r', 'a', 'j', 'h', 'kesabh', 'did', 69, 69.69, 'a', 'f', 'r', 'a', 'j', 'h', 'kesabh', 'did', 69, 69.69, 'a', 'f', 'r', 'a', 'j', 'h', 'kesabh', 'did', 69, 69.69, 'a', 'f', 'r', 'a', 'j', 'h', 'kesabh', 'did', 69, 69.69, 'a', 'f', 'r', 'a', 'j', 'h', 'kesabh', 'did', 69, 69.69, 'a', 'f', 'r', 'a', 'j', 'h', 'kesabh', 'did', 69, 69.69, 'a', 'f', 'r', 'a', 'j', 'h', 'kesabh', 'did', 69, 69.69, 'a', 'f', 'r', 'a', 'j', 'h', 'kesabh', 'did', 69, 69.69, 'a', 'f', 'r', 'a', 'j', 'h', 'kesabh', 'did', 69, 69.69, 'a', 'f', 'r', 'a', 'j', 'h', 'kesabh', 'did', 69, 69.69, 'a', 'f', 'r', 'a', 'j', 'h', 'kesabh', 'did', 69, 69.69, 'a', 'f', 'r', 'a', 'j', 'h', 'kesabh', 'did', 69, 69.69, 'a', 'f', 'r', 'a', 'j', 'h', 'kesabh', 'did', 69, 69.69, 'a', 'f', 'r', 'a', 'j', 'h', 'kesabh', 'did', 69, 69.69, 'a', 'f', 'r', 'a', 'j', 'h', 'kesabh', 'did', 69, 69.69, 'a', 'f', 'r', 'a', 'j', 'h', 'kesabh', 'did', 69, 69.69, 'a', 'f', 'r', 'a', 'j', 'h', 'kesabh', 'did', 69, 69.69, 'a', 'f', 'r', 'a', 'j', 'h', 'kesabh', 'did', 69, 69.69, 'a', 'f', 'r', 'a', 'j', 'h', 'kesabh', 'did', 69, 69.69, 'a', 'f', 'r', 'a', 'j', 'h', 'kesabh', 'did', 69, 69.69, 'a', 'f', 'r', 'a', 'j', 'h', 'kesabh', 'did', 69, 69.69, 'a', 'f', 'r', 'a', 'j', 'h', 'kesabh', 'did', 69, 69.69, 'a', 'f', 'r', 'a', 'j', 'h', 'kesabh', 'did', 69, 69.69, 'a', 'f', 'r', 'a', 'j', 'h', 'kesabh', 'did', 69, 69.69, 'a', 'f', 'r', 'a', 'j', 'h', 'kesabh', 'did', 69, 69.69, 'a', 'f', 'r', 'a', 'j', 'h', 'kesabh', 'did', 69, 69.69, 'a', 'f', 'r', 'a', 'j', 'h', 'kesabh', 'did', 69, 69.69, 'a', 'f', 'r', 'a', 'j', 'h', 'kesabh', 'did', 69, 69.69, 'a', 'f', 'r', 'a', 'j', 'h', 'kesabh', 'did', 69, 69.69, 'a', 'f', 'r', 'a', 'j', 'h', 'kesabh', 'did', 69, 69.69, 'a', 'f', 'r', 'a', 'j', 'h', 'kesabh', 'did', 69, 69.69, 'a', 'f', 'r', 'a', 'j', 'h', 'kesabh', 'did', 69, 69.69, 'a', 'f', 'r', 'a', 'j', 'h', 'kesabh', 'did', 69, 69.69, 'a', 'f', 'r', 'a', 'j', 'h', 'kesabh', 'did', 69, 69.69, 'a', 'f', 'r', 'a', 'j', 'h', 'kesabh', 'did', 69, 69.69, 'a', 'f', 'r', 'a', 'j', 'h', 'kesabh', 'did', 69, 69.69, 'a', 'f', 'r', 'a', 'j', 'h', 'kesabh', 'did', 69, 69.69, 'a', 'f', 'r', 'a', 'j', 'h', 'kesabh', 'did', 69, 69.69, 'a', 'f', 'r', 'a', 'j', 'h', 'kesabh', 'did', 69, 69.69, 'a', 'f', 'r', 'a', 'j', 'h', 'kesabh', 'did', 69, 69.69, 'a', 'f', 'r', 'a', 'j', 'h', 'kesabh', 'did', 69, 69.69, 'a', 'f', 'r', 'a', 'j', 'h', 'kesabh', 'did', 69, 69.69, 'a', 'f', 'r', 'a', 'j', 'h', 'kesabh', 'did', 69, 69.69, 'a', 'f', 'r', 'a', 'j', 'h', 'kesabh', 'did', 69, 69.69, 'a', 'f', 'r', 'a', 'j', 'h', 'kesabh', 'did', 69, 69.69, 'a', 'f', 'r', 'a', 'j', 'h', 'kesabh', 'did', 69, 69.69, 'a', 'f', 'r', 'a', 'j', 'h', 'kesabh', 'did', 69, 69.69, 'a', 'f', 'r', 'a', 'j', 'h', 'kesabh', 'did', 69, 69.69, 'a', 'f', 'r', 'a', 'j', 'h', 'kesabh', 'did', 69, 69.69, 'a', 'f', 'r', 'a', 'j', 'h', 'kesabh', 'did', 69, 69.69, 'a', 'f', 'r', 'a', 'j', 'h', 'kesabh', 'did', 69, 69.69, 'a', 'f', 'r', 'a', 'j', 'h', 'kesabh', 'did', 69, 69.69, 'a', 'f', 'r', 'a', 'j', 'h', 'kesabh', 'did', 69, 69.69, 'a', 'f', 'r', 'a', 'j', 'h', 'kesabh', 'did', 69, 69.69, 'a', 'f', 'r', 'a', 'j', 'h', 'kesabh', 'did', 69, 69.69, 'a', 'f', 'r', 'a', 'j', 'h', 'kesabh', 'did', 69, 69.69, 'a', 'f', 'r', 'a', 'j', 'h', 'kesabh', 'did', 69, 69.69, 'a', 'f', 'r', 'a', 'j', 'h', 'kesabh', 'did', 69, 69.69, 'a', 'f', 'r', 'a', 'j', 'h', 'kesabh', 'did', 69, 69.69, 'a', 'f', 'r', 'a', 'j', 'h', 'kesabh', 'did', 69, 69.69, 'a', 'f', 'r', 'a', 'j', 'h', 'kesabh', 'did', 69, 69.69, 'a', 'f', 'r', 'a', 'j', 'h', 'kesabh', 'did', 69, 69.69, 'a', 'f', 'r', 'a', 'j', 'h', 'kesabh', 'did', 69, 69.69, 'a', 'f', 'r', 'a', 'j', 'h', 'kesabh', 'did', 69, 69.69, 'a', 'f', 'r', 'a', 'j', 'h', 'kesabh', 'did', 69, 69.69, 'a', 'f', 'r', 'a', 'j', 'h', 'kesabh', 'did', 69, 69.69, 'a', 'f', 'r', 'a', 'j', 'h', 'kesabh', 'did', 69, 69.69, 'a', 'f', 'r', 'a', 'j', 'h', 'kesabh', 'did', 69, 69.69, 'a', 'f', 'r', 'a', 'j', 'h', 'kesabh', 'did', 69, 69.69, 'a', 'f', 'r', 'a', 'j', 'h', 'kesabh', 'did', 69, 69.69, 'a', 'f', 'r', 'a', 'j', 'h', 'kesabh', 'did', 69, 69.69, 'a', 'f', 'r', 'a', 'j', 'h', 'kesabh', 'did', 69, 69.69, 'a', 'f', 'r', 'a', 'j', 'h'] \n",
            "\n"
          ]
        }
      ]
    },
    {
      "cell_type": "code",
      "source": [
        "n=int(input('Enter number:'))\n",
        "m= str(n)\n",
        "o=len(m)\n",
        "\n",
        "result=0\n",
        "for i in m:\n",
        "  result+=int(i)**o\n",
        "if result==n:\n",
        "  print(' Armstrong')\n",
        "else:\n",
        "  print(' Not Armstrong')"
      ],
      "metadata": {
        "colab": {
          "base_uri": "https://localhost:8080/"
        },
        "id": "rpvdV2ZgT7Lj",
        "outputId": "0d522bac-b9df-4635-f3a9-6d1bccaad0dc"
      },
      "execution_count": null,
      "outputs": [
        {
          "output_type": "stream",
          "name": "stdout",
          "text": [
            "Enter number:1634\n",
            " Armstrong\n"
          ]
        }
      ]
    },
    {
      "cell_type": "code",
      "source": [
        "n=input()\n",
        "num=alpha=0\n",
        "for i in n:\n",
        "  if i.isalpha():\n",
        "    alpha+=1\n",
        "  elif i.isdigit():\n",
        "    num+=1\n",
        "print('Total ddigit=',num)\n",
        "print('Total alphabet=',alpha)"
      ],
      "metadata": {
        "colab": {
          "base_uri": "https://localhost:8080/"
        },
        "id": "_aajWO43UH7Z",
        "outputId": "505d2f6b-9c60-4b8a-9a17-2bb24b48e7bd"
      },
      "execution_count": null,
      "outputs": [
        {
          "output_type": "stream",
          "name": "stdout",
          "text": [
            "helleiur932841\n",
            "Total ddigit= 6\n",
            "Total alphabet= 8\n"
          ]
        }
      ]
    },
    {
      "cell_type": "code",
      "source": [
        "n=int(input())\n",
        "\n",
        "sum=0\n",
        "for i in range(1,n):\n",
        "    if n%i==0:\n",
        "        sum+=i\n",
        "if sum==n:\n",
        "  print('Perfect number')\n",
        "else:\n",
        "  print('Not Perfect number')"
      ],
      "metadata": {
        "colab": {
          "base_uri": "https://localhost:8080/"
        },
        "id": "FeDL6-YuYq7O",
        "outputId": "676267e7-0fbd-4d09-f4e8-144c14f9c763"
      },
      "execution_count": null,
      "outputs": [
        {
          "output_type": "stream",
          "name": "stdout",
          "text": [
            "28\n",
            "Perfect number\n"
          ]
        }
      ]
    },
    {
      "cell_type": "code",
      "source": [
        "n=int(input())\n",
        "m=int(input(\"Enter range:\"))\n",
        "sum=0\n",
        "count=0\n",
        "for i in range(1,m):\n",
        "\n",
        "print(count)\n",
        "for i in range(1,n):\n",
        "    if n%i==0:\n",
        "        sum+=i\n",
        "if sum==n:\n",
        "  print('Perfect number')\n",
        "else:\n",
        "  print('Not Perfect number')"
      ],
      "metadata": {
        "colab": {
          "base_uri": "https://localhost:8080/"
        },
        "id": "5cOLasPYYWtj",
        "outputId": "c25b15e5-6c5c-474d-dbdd-f18f3c2a6986"
      },
      "execution_count": null,
      "outputs": [
        {
          "output_type": "stream",
          "name": "stdout",
          "text": [
            "6\n",
            "Enter range:100\n",
            "374\n",
            "Perfect number\n"
          ]
        }
      ]
    },
    {
      "cell_type": "code",
      "source": [
        "for i in range(1,51):\n",
        "  if i%3==0 and i%5==0:\n",
        "    print('FizzBuzz')\n",
        "  elif i%3==0:\n",
        "    print('Fizz')\n",
        "  elif i%5==0:\n",
        "    print('Buzz')\n",
        "  else:\n",
        "    print(i)"
      ],
      "metadata": {
        "colab": {
          "base_uri": "https://localhost:8080/"
        },
        "id": "GWTC8DnGdFP_",
        "outputId": "06ee4c9c-75c2-4753-ea91-6f4047544f02"
      },
      "execution_count": null,
      "outputs": [
        {
          "output_type": "stream",
          "name": "stdout",
          "text": [
            "1\n",
            "2\n",
            "Fizz\n",
            "4\n",
            "Buzz\n",
            "Fizz\n",
            "7\n",
            "8\n",
            "Fizz\n",
            "Buzz\n",
            "11\n",
            "Fizz\n",
            "13\n",
            "14\n",
            "FizzBuzz\n",
            "16\n",
            "17\n",
            "Fizz\n",
            "19\n",
            "Buzz\n",
            "Fizz\n",
            "22\n",
            "23\n",
            "Fizz\n",
            "Buzz\n",
            "26\n",
            "Fizz\n",
            "28\n",
            "29\n",
            "FizzBuzz\n",
            "31\n",
            "32\n",
            "Fizz\n",
            "34\n",
            "Buzz\n",
            "Fizz\n",
            "37\n",
            "38\n",
            "Fizz\n",
            "Buzz\n",
            "41\n",
            "Fizz\n",
            "43\n",
            "44\n",
            "FizzBuzz\n",
            "46\n",
            "47\n",
            "Fizz\n",
            "49\n",
            "Buzz\n"
          ]
        }
      ]
    },
    {
      "cell_type": "code",
      "source": [
        "a=[1,3,2,9,40]\n",
        "a.append(7)\n",
        "print(a)"
      ],
      "metadata": {
        "colab": {
          "base_uri": "https://localhost:8080/"
        },
        "id": "kEqAckeSgtnm",
        "outputId": "3b876ec0-edb7-46eb-80be-aae9162919ad"
      },
      "execution_count": 1,
      "outputs": [
        {
          "output_type": "stream",
          "name": "stdout",
          "text": [
            "[1, 3, 2, 9, 40, 7]\n"
          ]
        }
      ]
    },
    {
      "cell_type": "code",
      "source": [
        "a=[2,4,6,8,10,12,14,16,18,20]\n",
        "b=(3,6,9,12,15,18,21,24,27,30)\n",
        "a.append(b)\n",
        "print(a)"
      ],
      "metadata": {
        "id": "uoNnPKtxnm_e",
        "colab": {
          "base_uri": "https://localhost:8080/"
        },
        "outputId": "3c7730e8-1587-4106-8576-ccabf8236c82"
      },
      "execution_count": 5,
      "outputs": [
        {
          "output_type": "stream",
          "name": "stdout",
          "text": [
            "[2, 4, 6, 8, 10, 12, 14, 16, 18, 20, (3, 6, 9, 12, 15, 18, 21, 24, 27, 30)]\n"
          ]
        }
      ]
    },
    {
      "cell_type": "code",
      "source": [],
      "metadata": {
        "id": "Ze1G1yaRoJFf"
      },
      "execution_count": null,
      "outputs": []
    }
  ]
}